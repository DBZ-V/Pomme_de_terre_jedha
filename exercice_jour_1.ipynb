{
 "cells": [
  {
   "cell_type": "code",
   "execution_count": 10,
   "metadata": {},
   "outputs": [
    {
     "name": "stdout",
     "output_type": "stream",
     "text": [
      "enter your password\n",
      "Y o u    h a v e    t h e    r i g h t    p a s s w o r d ! \n"
     ]
    }
   ],
   "source": [
    "print(\"enter your password\")\n",
    "password = input(\"enter your password:   \")\n",
    "count = 0\n",
    "while password != \"54755\":\n",
    "    count += 1\n",
    "    print('wrong password, please try again')\n",
    "    print(\"nombre d'echec: \",count)\n",
    "    password = input(\"wrong password, please try again:   \")\n",
    "    if count ==5:\n",
    "        print(\"you failed, your session is locked\")\n",
    "        break\n",
    "\n",
    "if count ==5:\n",
    "    print(\"system locked\")\n",
    "else: \n",
    "    print(\"Y o u    h a v e    t h e    r i g h t    p a s s w o r d ! \")"
   ]
  },
  {
   "cell_type": "code",
   "execution_count": 19,
   "metadata": {},
   "outputs": [
    {
     "name": "stdout",
     "output_type": "stream",
     "text": [
      "['Hello', 'I', 'Michel', 'am']\n",
      "Hello\n",
      "I\n",
      "Michel\n",
      "am\n",
      "['Hello', 'I', 'am', 'Michel']\n",
      "[12, 16, 34, 58, 9]\n",
      "[9, 12, 16, 34, 58]\n"
     ]
    }
   ],
   "source": [
    "\n",
    "michel = [\"Hello\", \"I\", \"Michel\", \"am\"]\n",
    "print(michel)\n",
    "for i in michel:\n",
    "    print(i)\n",
    "\n",
    "michel[2], michel[3] = michel[3], michel[2]\n",
    "print(michel)\n",
    "\n",
    "age = [12, 16, 34, 58, 9]\n",
    "print(age)\n",
    "age = sorted(age)\n",
    "print(age)"
   ]
  },
  {
   "cell_type": "code",
   "execution_count": 109,
   "metadata": {},
   "outputs": [
    {
     "name": "stdout",
     "output_type": "stream",
     "text": [
      "Luke Skywalker is 172 cm tall and weighs 77 kg. He was born in 19BBY\n"
     ]
    }
   ],
   "source": [
    "import requests\n",
    "request = requests.get(\"https://swapi.dev/api/people/1/\")\n",
    "dic = request.json()\n",
    "#“{{name}} is {{height}} cm tall and weighs {{mass}} kg. He was born in {{birth_year}}”\n",
    "#print(dic)\n",
    "\n",
    "# for i in dic:\n",
    "#     print(i)\n",
    "\n",
    "print(dic[\"name\"], \"is\",dic[\"height\"], \"cm tall and weighs\", dic[\"mass\"], \"kg. He was born in\", dic[\"birth_year\"])\n",
    "# x=0\n",
    "# while x <5:\n",
    "#     urlsw=\"https://swapi.dev/api/people/\"\n",
    "#     sw=urlsw+str(x)+\"/\"\n",
    "#     request = requests.get(sw)\n",
    "#     dic = request.json()\n",
    "#     print(dic[\"name\"], \"is\",dic[\"height\"], \"cm tall and weighs\", dic[\"mass\"], \"kg. He was born in\", dic[\"birth_year\"])\n",
    "#     x+=1"
   ]
  },
  {
   "cell_type": "code",
   "execution_count": 107,
   "metadata": {},
   "outputs": [
    {
     "name": "stdout",
     "output_type": "stream",
     "text": [
      "Luke Skywalker is 172 cm tall and weighs 77 kg. He was born in 19BBY\n",
      "C-3PO is 167 cm tall and weighs 75 kg. He was born in 112BBY\n",
      "R2-D2 is 96 cm tall and weighs 32 kg. He was born in 33BBY\n",
      "Darth Vader is 202 cm tall and weighs 136 kg. He was born in 41.9BBY\n",
      "Leia Organa is 150 cm tall and weighs 49 kg. He was born in 19BBY\n",
      "Owen Lars is 178 cm tall and weighs 120 kg. He was born in 52BBY\n",
      "Beru Whitesun lars is 165 cm tall and weighs 75 kg. He was born in 47BBY\n",
      "R5-D4 is 97 cm tall and weighs 32 kg. He was born in unknown\n",
      "Biggs Darklighter is 183 cm tall and weighs 84 kg. He was born in 24BBY\n",
      "Obi-Wan Kenobi is 182 cm tall and weighs 77 kg. He was born in 57BBY\n",
      "Anakin Skywalker is 188 cm tall and weighs 84 kg. He was born in 41.9BBY\n",
      "Wilhuff Tarkin is 180 cm tall and weighs unknown kg. He was born in 64BBY\n",
      "Chewbacca is 228 cm tall and weighs 112 kg. He was born in 200BBY\n",
      "Han Solo is 180 cm tall and weighs 80 kg. He was born in 29BBY\n"
     ]
    }
   ],
   "source": [
    "import requests\n",
    "x=1\n",
    "while x < 15:\n",
    "    urlsw=\"https://swapi.dev/api/people/\"\n",
    "    sw=urlsw+str(x)+\"/\"\n",
    "    #print(sw)\n",
    "    request = requests.get(sw)\n",
    "    dic = request.json()\n",
    "    print(dic[\"name\"], \"is\",dic[\"height\"], \"cm tall and weighs\", dic[\"mass\"], \"kg. He was born in\", dic[\"birth_year\"])\n",
    "    x +=1"
   ]
  },
  {
   "cell_type": "code",
   "execution_count": 122,
   "metadata": {},
   "outputs": [
    {
     "name": "stdout",
     "output_type": "stream",
     "text": [
      "km moyen: 156.0 pour 8 personnes\n",
      "km moyen: 35.42857142857143 pour 7 personnes\n"
     ]
    }
   ],
   "source": [
    "kilometres_travelled = [50, 10, 100, 25, 1000, 21, 12,30]\n",
    "tot=0\n",
    "nbtotal=0\n",
    "for i in kilometres_travelled:\n",
    "    tot=tot+i\n",
    "    nbtotal +=1\n",
    "print(\"km moyen:\",tot/nbtotal, \"pour\",nbtotal, \"personnes\")\n",
    "\n",
    "# kilometres_travelled= sorted(kilometres_travelled)\n",
    "kilometres_travelled.pop(4)\n",
    "\n",
    "tot=0\n",
    "nbtotal=0\n",
    "for i in kilometres_travelled :\n",
    "    tot=tot+i\n",
    "    nbtotal +=1\n",
    "print(\"km moyen:\",tot/nbtotal, \"pour\",nbtotal, \"personnes\")\n"
   ]
  },
  {
   "cell_type": "code",
   "execution_count": 128,
   "metadata": {},
   "outputs": [
    {
     "name": "stdout",
     "output_type": "stream",
     "text": [
      "5.0\n"
     ]
    },
    {
     "data": {
      "text/plain": [
       "int"
      ]
     },
     "execution_count": 128,
     "metadata": {},
     "output_type": "execute_result"
    }
   ],
   "source": [
    "def sqrt (x):\n",
    "    x= x**0.5\n",
    "    return x\n",
    "\n",
    "print(sqrt(25))\n",
    "type (x)"
   ]
  },
  {
   "cell_type": "code",
   "execution_count": 213,
   "metadata": {},
   "outputs": [
    {
     "data": {
      "text/plain": [
       "1.11"
      ]
     },
     "execution_count": 213,
     "metadata": {},
     "output_type": "execute_result"
    }
   ],
   "source": [
    "def Interest(amount, time, rate):\n",
    "    if type(amount) == str or type(time) == str or type(rate) == str:\n",
    "        print(\"The informations can't be string\")\n",
    "    else:\n",
    "        if amount <0 or time<0 or rate < 0:\n",
    "            print(\"All numbers have to be positive\")\n",
    "        else:\n",
    "            rate = rate/100\n",
    "            final = amount*(1 + rate/12)**(12*time)\n",
    "            final = round(final,2)\n",
    "            return final\n",
    "\n",
    "#capital de depart 1, 5 ans, 2%\n",
    "Interest(1,5,2)\n"
   ]
  },
  {
   "cell_type": "code",
   "execution_count": 36,
   "metadata": {},
   "outputs": [
    {
     "name": "stdout",
     "output_type": "stream",
     "text": [
      "The informations can't be a string\n"
     ]
    },
    {
     "data": {
      "text/plain": [
       "883.54"
      ]
     },
     "execution_count": 36,
     "metadata": {},
     "output_type": "execute_result"
    }
   ],
   "source": [
    "def Interest():\n",
    "    i = 0\n",
    "    while i == 0:\n",
    "        try:\n",
    "            amount = input(\"fond de base\")\n",
    "            time = input(\"temps d'épargne en année\")\n",
    "            rate = input(\"taux t'interet (en pourcent sansecrire '%')\")\n",
    "            amount = float(amount)\n",
    "            time   = float(time)\n",
    "            rate   = float(rate)\n",
    "\n",
    "            # if type(amount) == str or type(time) == str or type(rate) == str:\n",
    "            #     print(\"The informations can't be string\")\n",
    "            # else:\n",
    "            if amount <0 or time<0 or rate < 0:\n",
    "                print(\"All numbers have to be positive\")\n",
    "            else:\n",
    "                rate = rate/100\n",
    "                final = amount*(1 + rate/12)**(12*time)\n",
    "                final = round(final,2)\n",
    "                i = 1\n",
    "                # print(final)\n",
    "                # break\n",
    "                return final\n",
    "        except ValueError as e:\n",
    "            print(\"The informations can't be a string\")\n",
    "\n",
    "Interest()"
   ]
  },
  {
   "cell_type": "code",
   "execution_count": 183,
   "metadata": {},
   "outputs": [
    {
     "name": "stdout",
     "output_type": "stream",
     "text": [
      "The informations can't be string\n"
     ]
    }
   ],
   "source": [
    "amount = 1\n",
    "time = 1\n",
    "rate = 8\n",
    "if type(amount) == str or type(time) == str or type(rate) == str:\n",
    "    print(\"The informations can't be string\")\n",
    "else:\n",
    "    if amount <0 or time<0 or rate < 0:\n",
    "        print(\"All numbers have to be positive\")\n",
    "    else:\n",
    "        print(\"continue\")"
   ]
  },
  {
   "cell_type": "code",
   "execution_count": 166,
   "metadata": {},
   "outputs": [
    {
     "name": "stdout",
     "output_type": "stream",
     "text": [
      "raté\n"
     ]
    }
   ],
   "source": []
  }
 ],
 "metadata": {
  "kernelspec": {
   "display_name": "base",
   "language": "python",
   "name": "python3"
  },
  "language_info": {
   "codemirror_mode": {
    "name": "ipython",
    "version": 3
   },
   "file_extension": ".py",
   "mimetype": "text/x-python",
   "name": "python",
   "nbconvert_exporter": "python",
   "pygments_lexer": "ipython3",
   "version": "3.11.7"
  }
 },
 "nbformat": 4,
 "nbformat_minor": 2
}
